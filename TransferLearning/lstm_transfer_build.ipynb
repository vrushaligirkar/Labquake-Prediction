{
  "nbformat": 4,
  "nbformat_minor": 0,
  "metadata": {
    "accelerator": "GPU",
    "colab": {
      "name": "lstm_transfer_build.ipynb",
      "provenance": [],
      "collapsed_sections": []
    },
    "kernelspec": {
      "display_name": "Python 3",
      "name": "python3"
    }
  },
  "cells": [
    {
      "cell_type": "markdown",
      "metadata": {
        "id": "XacbI5aNUNkF"
      },
      "source": [
        "Building pre-trained LSTM model (shear stress prediction) for Transfer learning on p5271 experiment"
      ]
    },
    {
      "cell_type": "code",
      "metadata": {
        "id": "7AhQY7Y5U_bG"
      },
      "source": [
        "import pandas as pd\n",
        "import numpy as np\n",
        "from scipy.io import loadmat\n",
        "import matplotlib.pyplot as plt\n",
        "from sklearn.model_selection import train_test_split\n",
        "from sklearn.metrics import r2_score, mean_squared_error\n",
        "from keras.models import Sequential\n",
        "from keras.optimizers import RMSprop, Adam\n",
        "from keras.layers import Dense, LSTM, TimeDistributed, Flatten, Bidirectional, Dropout\n",
        "from keras.layers.convolutional import Conv1D, MaxPooling1D\n",
        "from sklearn.preprocessing import MinMaxScaler\n",
        "from keras.utils import plot_model\n",
        "import time\n",
        "import tensorflow as tf\n"
      ],
      "execution_count": null,
      "outputs": []
    },
    {
      "cell_type": "code",
      "metadata": {
        "id": "GMXTNAAcWJRE"
      },
      "source": [
        "# Function to create data with timesteps\n",
        "\n",
        "def create_timesteps(data, n_steps):\n",
        "\tx = []\n",
        "\ty = []\n",
        "\tfor i in range(len(data)-1):\n",
        "\t\tend_ix = i + n_steps\n",
        "\t\tif end_ix > len(data)-1:\n",
        "\t\t\tbreak\n",
        "\t\tx1, y1 = data[i:end_ix, :-1], data[end_ix, -1]  #last column is the target variable\n",
        "\t\tx.append(x1)\n",
        "\t\ty.append(y1)\n",
        "\treturn np.array(x), np.array(y)\n",
        " "
      ],
      "execution_count": null,
      "outputs": []
    },
    {
      "cell_type": "code",
      "metadata": {
        "id": "msK1dpSjVJMr",
        "outputId": "1ec45850-4b5c-48ec-fc06-959235c7120d",
        "colab": {
          "base_uri": "https://localhost:8080/"
        }
      },
      "source": [
        "# Load the data\n",
        "\n",
        "data = loadmat('/content/drive/My Drive/Colab Notebooks/Labquake_prediction/MLpreprocessed_code/data/p5270_ML_Master.mat')\n",
        "m_t = pd.DataFrame({'Time':data['Time'].ravel().round(2), 'SS':data['SS'].ravel()})\n",
        "a_t = pd.DataFrame({'Time':data['LocalAcTime'].ravel().round(2), 'V_filt':data['V_filt'].ravel(), 'Vel_pc':data['Vel_pc'].ravel(),\n",
        "                    'A_filt':data['A_filt'].ravel(), 'T_pc':data['T_pc'].ravel()})  \n",
        "df1 = a_t.merge(m_t, on='Time')\n",
        "\n",
        "df = df1.drop(['Time'], axis=1)   # Drop irrelevant features\n",
        "print(\"Input data:\\n\", df)\n"
      ],
      "execution_count": null,
      "outputs": [
        {
          "output_type": "stream",
          "text": [
            "Input data:\n",
            "              V_filt  Vel_pc       A_filt  T_pc        SS\n",
            "0       5489.978529     0.0  1804.180000   0.0  5.656166\n",
            "1       5489.981454     0.0  1803.666667   0.0  5.657157\n",
            "2       5489.997639     0.0  1803.314286   0.0  5.658317\n",
            "3       5490.007016     0.0  1803.437500   0.0  5.659499\n",
            "4       5490.000189     0.0  1803.266667   0.0  5.660404\n",
            "...             ...     ...          ...   ...       ...\n",
            "132394  5459.380488     0.0  1784.250000   0.0  5.471059\n",
            "132395  5459.377762     0.0  1784.055556   0.0  5.474545\n",
            "132396  5459.388352     0.0  1783.837500   0.0  5.478286\n",
            "132397  5459.398820     0.0  1783.371429   0.0  5.481751\n",
            "132398  5459.399041     0.0  1781.433333   0.0  5.484813\n",
            "\n",
            "[132399 rows x 5 columns]\n"
          ],
          "name": "stdout"
        }
      ]
    },
    {
      "cell_type": "code",
      "metadata": {
        "id": "nWKW90y_XqeL",
        "outputId": "27a6a8c5-2294-41da-be53-caacc2fa1a2f",
        "colab": {
          "base_uri": "https://localhost:8080/"
        }
      },
      "source": [
        "# Preprocessing\n",
        "\n",
        "arr = df.to_numpy()\n",
        "n_steps = 300\n",
        "xdf, ydf = create_timesteps(arr, n_steps)\n",
        "\n",
        "print('Features shape, X = ', np.shape(xdf))\n",
        "print('Target shape, Y = ', np.shape(ydf))\n"
      ],
      "execution_count": null,
      "outputs": [
        {
          "output_type": "stream",
          "text": [
            "Features shape, X =  (132099, 300, 4)\n",
            "Target shape, Y =  (132099,)\n"
          ],
          "name": "stdout"
        }
      ]
    },
    {
      "cell_type": "code",
      "metadata": {
        "id": "ca0I1HWWUtng",
        "outputId": "d2941014-d8ac-4c76-aa56-1806aa9ba6b8",
        "colab": {
          "base_uri": "https://localhost:8080/"
        }
      },
      "source": [
        "# Split into train-val-test\n",
        "x_train, x_test, y_train, y_test = train_test_split(xdf, ydf, test_size=0.2, shuffle=False)\n",
        "X_train, X_val, Y_train, Y_val = train_test_split(x_train, y_train, test_size=0.1, shuffle=False)\n",
        "\n",
        "# Normalize the features\n",
        "scaler = MinMaxScaler()\n",
        "num_instances, num_time_steps, num_features = X_train.shape\n",
        "X_train = scaler.fit_transform(np.reshape(X_train, (-1, num_features)))\n",
        "X_train = np.reshape(X_train, (num_instances, num_time_steps, num_features))\n",
        "\n",
        "num_instances, num_time_steps, num_features = X_val.shape\n",
        "X_val = scaler.transform(np.reshape(X_val, (-1, num_features)))\n",
        "X_val = np.reshape(X_val, (num_instances, num_time_steps, num_features))\n",
        "\n",
        "num_instances, num_time_steps, num_features = x_test.shape\n",
        "x_test = scaler.transform(np.reshape(x_test, (-1, num_features)))\n",
        "x_test = np.reshape(x_test, (num_instances, num_time_steps, num_features))\n",
        "\n",
        "print(\"Training:\", np.shape(X_train))\n",
        "print(\"Validation:\", np.shape(X_val))\n",
        "print(\"Testing:\", np.shape(x_test))\n"
      ],
      "execution_count": null,
      "outputs": [
        {
          "output_type": "stream",
          "text": [
            "Training: (95111, 300, 4)\n",
            "Validation: (10568, 300, 4)\n",
            "Testing: (26420, 300, 4)\n"
          ],
          "name": "stdout"
        }
      ]
    },
    {
      "cell_type": "code",
      "metadata": {
        "id": "nboxCECkW0Pg",
        "outputId": "2451d3e9-ce98-4d1e-bad5-100e3e0d6667",
        "colab": {
          "background_save": true,
          "base_uri": "https://localhost:8080/"
        }
      },
      "source": [
        "# Build the model\n",
        "\n",
        "np.random.seed(0)   # To get reproducible results\n",
        "tf.random.set_seed(1)\n",
        "\n",
        "model = Sequential()\n",
        "model.add(LSTM(32, input_shape=(X_train.shape[1], X_train.shape[2]), return_sequences=True))\n",
        "model.add(LSTM(16))\n",
        "model.add(Dense(1, kernel_initializer='normal', activation='relu'))\n",
        "model.compile(loss='mse', optimizer='adam')\n",
        "\n",
        "start_time = time.time()\n",
        "history = model.fit(X_train, Y_train, epochs=10, batch_size=32, validation_data=(X_val, Y_val), verbose=1)\n",
        "end_time = time.time()\n",
        "\n",
        "plt.plot(history.history['loss'], label='train')\n",
        "plt.plot(history.history['val_loss'], label='val')\n",
        "plt.legend()\n",
        "plt.show()\n",
        "\n",
        "print(\"---Training time: %0.8f seconds ---\" % (end_time - start_time))\n"
      ],
      "execution_count": null,
      "outputs": [
        {
          "output_type": "stream",
          "text": [
            "Epoch 1/10\n",
            "2973/2973 [==============================] - 63s 21ms/step - loss: 0.9703 - val_loss: 0.0233\n",
            "Epoch 2/10\n",
            "2973/2973 [==============================] - 60s 20ms/step - loss: 0.0166 - val_loss: 0.0226\n",
            "Epoch 3/10\n",
            "2973/2973 [==============================] - 60s 20ms/step - loss: 0.0104 - val_loss: 0.0032\n",
            "Epoch 4/10\n",
            "2973/2973 [==============================] - 60s 20ms/step - loss: 0.0030 - val_loss: 0.0018\n",
            "Epoch 5/10\n",
            "2973/2973 [==============================] - 60s 20ms/step - loss: 0.0011 - val_loss: 0.0012\n",
            "Epoch 6/10\n",
            "2973/2973 [==============================] - 59s 20ms/step - loss: 6.3905e-04 - val_loss: 0.0014\n",
            "Epoch 7/10\n",
            "2973/2973 [==============================] - 59s 20ms/step - loss: 4.9970e-04 - val_loss: 9.8138e-04\n",
            "Epoch 8/10\n",
            "2973/2973 [==============================] - 58s 19ms/step - loss: 4.0623e-04 - val_loss: 6.0779e-04\n",
            "Epoch 9/10\n",
            "2973/2973 [==============================] - 58s 20ms/step - loss: 3.6754e-04 - val_loss: 6.2558e-04\n",
            "Epoch 10/10\n",
            "2973/2973 [==============================] - 58s 19ms/step - loss: 3.2983e-04 - val_loss: 4.6966e-04\n"
          ],
          "name": "stdout"
        },
        {
          "output_type": "display_data",
          "data": {
            "image/png": "[encoded data removed]",
            "text/plain": [
              "<Figure size 432x288 with 1 Axes>"
            ]
          },
          "metadata": {
            "tags": []
          }
        },
        {
          "output_type": "stream",
          "text": [
            "---Training time: 602.86012459 seconds ---\n"
          ],
          "name": "stdout"
        }
      ]
    },
    {
      "cell_type": "code",
      "metadata": {
        "id": "_a3h-Qkq9sTq",
        "outputId": "d3b76f63-d4da-4585-8541-61d09ca9db03",
        "colab": {
          "background_save": true
        }
      },
      "source": [
        "# Save the model\n",
        "\n",
        "print(model.summary())\n",
        "plot_model(model, show_shapes=True)\n",
        "model.save('/content/drive/My Drive/Colab Notebooks/Labquake_prediction/MLpreprocessed_code/models/Transfer_LSTM_ss.h5')"
      ],
      "execution_count": null,
      "outputs": [
        {
          "output_type": "stream",
          "text": [
            "Model: \"sequential\"\n",
            "_________________________________________________________________\n",
            "Layer (type)                 Output Shape              Param #   \n",
            "=================================================================\n",
            "lstm (LSTM)                  (None, 300, 32)           4736      \n",
            "_________________________________________________________________\n",
            "lstm_1 (LSTM)                (None, 16)                3136      \n",
            "_________________________________________________________________\n",
            "dense (Dense)                (None, 1)                 17        \n",
            "=================================================================\n",
            "Total params: 7,889\n",
            "Trainable params: 7,889\n",
            "Non-trainable params: 0\n",
            "_________________________________________________________________\n",
            "None\n"
          ],
          "name": "stdout"
        },
        {
          "output_type": "execute_result",
          "data": {
            "image/png": "[encoded data removed]",
            "text/plain": [
              "<IPython.core.display.Image object>"
            ]
          },
          "metadata": {
            "tags": []
          },
          "execution_count": 0
        }
      ]
    },
    {
      "cell_type": "code",
      "metadata": {
        "id": "v9qZxIpTYAt0",
        "outputId": "225d0aed-3739-4394-a3f6-6dd58d34dbe0",
        "colab": {
          "background_save": true
        }
      },
      "source": [
        "# Evaluate the model\n",
        "\n",
        "y_predTrain = model.predict(X_train)\n",
        "train_r2 = r2_score(Y_train, y_predTrain)\n",
        "train_rmse = np.sqrt(mean_squared_error(Y_train, y_predTrain))\n",
        "\n",
        "y_predVal = model.predict(X_val)\n",
        "val_r2 = r2_score(Y_val, y_predVal)\n",
        "val_rmse = np.sqrt(mean_squared_error(Y_val, y_predVal))  \n",
        "\n",
        "start_time = time.time()\n",
        "y_predTest = model.predict(x_test)\n",
        "end_time = time.time()\n",
        "\n",
        "test_r2 = r2_score(y_test, y_predTest)\n",
        "test_rmse = np.sqrt(mean_squared_error(y_test, y_predTest))\n",
        "\n",
        "print(\"R2 scores: Train - %0.5f, Validation - %0.5f, Test - %0.5f\" %(train_r2, val_r2, test_r2))\n",
        "print(\"RMSE scores: Train - %0.5f, Validation - %0.5f, Test - %0.5f\" %(train_rmse, val_rmse, test_rmse))\n",
        "\n",
        "print(\"\\n---Time for Test data prediction: %0.8f seconds ---\" % (end_time - start_time))"
      ],
      "execution_count": null,
      "outputs": [
        {
          "output_type": "stream",
          "text": [
            "R2 scores: Train - 0.97560, Validation - 0.97843, Test - 0.95715\n",
            "RMSE scores: Train - 0.02008, Validation - 0.02167, Test - 0.02991\n",
            "\n",
            "---Time for Test data prediction: 7.50496697 seconds ---\n"
          ],
          "name": "stdout"
        }
      ]
    }
  ]
}