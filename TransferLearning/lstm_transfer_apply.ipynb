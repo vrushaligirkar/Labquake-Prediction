{
  "nbformat": 4,
  "nbformat_minor": 0,
  "metadata": {
    "colab": {
      "name": "lstm_transfer_apply.ipynb",
      "provenance": [],
      "collapsed_sections": []
    },
    "kernelspec": {
      "name": "python3",
      "display_name": "Python 3"
    },
    "accelerator": "GPU"
  },
  "cells": [
    {
      "cell_type": "markdown",
      "metadata": {
        "id": "XacbI5aNUNkF",
        "colab_type": "text"
      },
      "source": [
        "Using pre-trained LSTM model for shear stress prediction of the p5271 experiment"
      ]
    },
    {
      "cell_type": "code",
      "metadata": {
        "id": "7AhQY7Y5U_bG",
        "colab_type": "code",
        "colab": {}
      },
      "source": [
        "import pandas as pd\n",
        "import numpy as np\n",
        "from scipy.io import loadmat\n",
        "import matplotlib.pyplot as plt\n",
        "from sklearn.model_selection import train_test_split\n",
        "from sklearn.metrics import r2_score, mean_squared_error\n",
        "from keras.models import Sequential\n",
        "from keras.optimizers import RMSprop, Adam\n",
        "from keras.layers import Dense, LSTM, TimeDistributed, Flatten, Bidirectional, Dropout\n",
        "from keras.layers.convolutional import Conv1D, MaxPooling1D\n",
        "from sklearn.preprocessing import MinMaxScaler\n",
        "from keras.utils import plot_model\n",
        "from keras.models import load_model\n",
        "import time\n",
        "import h5py\n",
        "import tensorflow as tf\n"
      ],
      "execution_count": null,
      "outputs": []
    },
    {
      "cell_type": "code",
      "metadata": {
        "id": "GMXTNAAcWJRE",
        "colab_type": "code",
        "colab": {}
      },
      "source": [
        "# Function to create data with timesteps\n",
        "\n",
        "def create_timesteps(data, n_steps):\n",
        "\tx = []\n",
        "\ty = []\n",
        "\tfor i in range(len(data)):\n",
        "\t\tend_ix = i + n_steps\n",
        "\t\tif end_ix > len(data):\n",
        "\t\t\tbreak\n",
        "\t\tx1, y1 = data[i:end_ix, :-1], data[end_ix-1, -1]  #last column is the target variable\n",
        "\t\tx.append(x1)\n",
        "\t\ty.append(y1)\n",
        "\treturn np.array(x), np.array(y)\n",
        " "
      ],
      "execution_count": null,
      "outputs": []
    },
    {
      "cell_type": "code",
      "metadata": {
        "id": "msK1dpSjVJMr",
        "colab_type": "code",
        "colab": {
          "base_uri": "https://localhost:8080/",
          "height": 272
        },
        "outputId": "155984cb-3015-49f6-bb19-e8fbf0675169"
      },
      "source": [
        "# Load the data\n",
        "\n",
        "data = loadmat('/content/drive/My Drive/Colab Notebooks/Labquake_prediction/MLpreprocessed_code/data/p5271_ML_Master.mat')\n",
        "m_t = pd.DataFrame({'Time':data['Time'].ravel().round(2), 'SS':data['SS'].ravel()})\n",
        "a_t = pd.DataFrame({'Time':data['LocalAcTime'].ravel().round(2), 'V_filt':data['V_filt'].ravel(), 'Vel_pc':data['Vel_pc'].ravel(),\n",
        "                    'A_filt':data['A_filt'].ravel(), 'T_pc':data['T_pc'].ravel()})  \n",
        "df1 = a_t.merge(m_t, on='Time')\n",
        "\n",
        "df = df1.drop(['Time'], axis=1)   # Drop irrelevant features\n",
        "print(\"Input data:\\n\", df)\n"
      ],
      "execution_count": null,
      "outputs": [
        {
          "output_type": "stream",
          "text": [
            "Input data:\n",
            "             V_filt  Vel_pc       A_filt  T_pc        SS\n",
            "0      5713.739611     0.0  5023.620000   0.0  5.893849\n",
            "1      5713.748279     0.0  5022.966667   0.0  5.893360\n",
            "2      5713.750421     0.0  5023.171429   0.0  5.893242\n",
            "3      5713.758606     0.0  5025.250000   0.0  5.893039\n",
            "4      5713.772870     0.0  5026.288889   0.0  5.892528\n",
            "...            ...     ...          ...   ...       ...\n",
            "75994  5720.364457     0.0  4885.680000   0.0  5.850977\n",
            "75995  5720.365210     0.0  4885.477778   0.0  5.851531\n",
            "75996  5720.384980     0.0  4886.137500   0.0  5.852108\n",
            "75997  5720.393775     0.0  4885.842857   0.0  5.852526\n",
            "75998  5720.397332     0.0  4885.700000   0.0  5.852725\n",
            "\n",
            "[75999 rows x 5 columns]\n"
          ],
          "name": "stdout"
        }
      ]
    },
    {
      "cell_type": "code",
      "metadata": {
        "id": "nWKW90y_XqeL",
        "colab_type": "code",
        "colab": {
          "base_uri": "https://localhost:8080/",
          "height": 51
        },
        "outputId": "9a37c1bd-19b4-430f-c3a8-0953d179c4ac"
      },
      "source": [
        "# Preprocessing\n",
        "\n",
        "arr = df.to_numpy()\n",
        "n_steps = 60\n",
        "xdf, ydf = create_timesteps(arr, n_steps)\n",
        "\n",
        "print('Features shape, X = ', np.shape(xdf))\n",
        "print('Target shape, Y = ', np.shape(ydf))\n"
      ],
      "execution_count": null,
      "outputs": [
        {
          "output_type": "stream",
          "text": [
            "Features shape, X =  (75940, 60, 4)\n",
            "Target shape, Y =  (75940,)\n"
          ],
          "name": "stdout"
        }
      ]
    },
    {
      "cell_type": "code",
      "metadata": {
        "id": "ca0I1HWWUtng",
        "colab_type": "code",
        "colab": {
          "base_uri": "https://localhost:8080/",
          "height": 68
        },
        "outputId": "7ec5cf5d-0bcb-4495-c1de-907426beb780"
      },
      "source": [
        "# Split into train-val-test\n",
        "x_train, x_test, y_train, y_test = train_test_split(xdf, ydf, test_size=0.4, shuffle=False)\n",
        "X_train, X_val, Y_train, Y_val = train_test_split(x_train, y_train, test_size=0.1, shuffle=False)\n",
        "\n",
        "# Normalize the features\n",
        "scaler = MinMaxScaler()\n",
        "num_instances, num_time_steps, num_features = X_train.shape\n",
        "X_train = scaler.fit_transform(np.reshape(X_train, (-1, num_features)))\n",
        "X_train = np.reshape(X_train, (num_instances, num_time_steps, num_features))\n",
        "\n",
        "num_instances, num_time_steps, num_features = X_val.shape\n",
        "X_val = scaler.transform(np.reshape(X_val, (-1, num_features)))\n",
        "X_val = np.reshape(X_val, (num_instances, num_time_steps, num_features))\n",
        "\n",
        "num_instances, num_time_steps, num_features = x_test.shape\n",
        "x_test = scaler.transform(np.reshape(x_test, (-1, num_features)))\n",
        "x_test = np.reshape(x_test, (num_instances, num_time_steps, num_features))\n",
        "\n",
        "print(\"Training:\", np.shape(X_train))\n",
        "print(\"Validation:\", np.shape(X_val))\n",
        "print(\"Testing:\", np.shape(x_test))\n"
      ],
      "execution_count": null,
      "outputs": [
        {
          "output_type": "stream",
          "text": [
            "Training: (41007, 60, 4)\n",
            "Validation: (4557, 60, 4)\n",
            "Testing: (30376, 60, 4)\n"
          ],
          "name": "stdout"
        }
      ]
    },
    {
      "cell_type": "code",
      "metadata": {
        "id": "nboxCECkW0Pg",
        "colab_type": "code",
        "colab": {
          "base_uri": "https://localhost:8080/",
          "height": 489
        },
        "outputId": "21fa16a8-79b5-455c-9ad5-4da90e27b460"
      },
      "source": [
        "# Load the pretrained model and re-fit\n",
        "\n",
        "model = load_model('/content/drive/My Drive/Colab Notebooks/Labquake_prediction/MLpreprocessed_code/models/LSTM_t1_ss.h5')\n",
        "\n",
        "model.compile(loss='mse', optimizer='adam')\n",
        "\n",
        "start_time = time.time()\n",
        "history = model.fit(X_train, Y_train, epochs=5, batch_size=32, validation_data=(X_val, Y_val), verbose=1)\n",
        "end_time = time.time()\n",
        "\n",
        "plt.plot(history.history['loss'], label='train')\n",
        "plt.plot(history.history['val_loss'], label='val')\n",
        "plt.legend()\n",
        "plt.show()\n",
        "\n",
        "print(\"---Training time: %0.8f seconds ---\" % (end_time - start_time))\n"
      ],
      "execution_count": null,
      "outputs": [
        {
          "output_type": "stream",
          "text": [
            "WARNING:tensorflow:Layer lstm will not use cuDNN kernel since it doesn't meet the cuDNN kernel criteria. It will use generic GPU kernel as fallback when running on GPU\n",
            "Epoch 1/5\n",
            "1282/1282 [==============================] - 127s 99ms/step - loss: 8.0814e-04 - val_loss: 0.0011\n",
            "Epoch 2/5\n",
            "1282/1282 [==============================] - 128s 100ms/step - loss: 5.7939e-04 - val_loss: 7.7339e-04\n",
            "Epoch 3/5\n",
            "1282/1282 [==============================] - 130s 101ms/step - loss: 5.1870e-04 - val_loss: 8.1975e-04\n",
            "Epoch 4/5\n",
            "1282/1282 [==============================] - 129s 100ms/step - loss: 5.1171e-04 - val_loss: 6.8436e-04\n",
            "Epoch 5/5\n",
            "1282/1282 [==============================] - 129s 101ms/step - loss: 4.7730e-04 - val_loss: 0.0011\n"
          ],
          "name": "stdout"
        },
        {
          "output_type": "display_data",
          "data": {
            "image/png": "[encoded data removed]",
            "text/plain": [
              "<Figure size 432x288 with 1 Axes>"
            ]
          },
          "metadata": {
            "tags": [],
            "needs_background": "light"
          }
        },
        {
          "output_type": "stream",
          "text": [
            "---Training time: 643.88817334 seconds ---\n"
          ],
          "name": "stdout"
        }
      ]
    },
    {
      "cell_type": "code",
      "metadata": {
        "id": "_a3h-Qkq9sTq",
        "colab_type": "code",
        "colab": {
          "base_uri": "https://localhost:8080/",
          "height": 677
        },
        "outputId": "29f187a6-3ef9-4688-a8be-53a42bddf27d"
      },
      "source": [
        "print(model.summary())\n",
        "plot_model(model, show_shapes=True)"
      ],
      "execution_count": null,
      "outputs": [
        {
          "output_type": "stream",
          "text": [
            "Model: \"sequential\"\n",
            "_________________________________________________________________\n",
            "Layer (type)                 Output Shape              Param #   \n",
            "=================================================================\n",
            "lstm (LSTM)                  (None, 128)               68096     \n",
            "_________________________________________________________________\n",
            "dense (Dense)                (None, 64)                8256      \n",
            "_________________________________________________________________\n",
            "dense_1 (Dense)              (None, 1)                 65        \n",
            "=================================================================\n",
            "Total params: 76,417\n",
            "Trainable params: 76,417\n",
            "Non-trainable params: 0\n",
            "_________________________________________________________________\n",
            "None\n"
          ],
          "name": "stdout"
        },
        {
          "output_type": "execute_result",
          "data": {
            "image/png": "[encoded data removed]",
            "text/plain": [
              "<IPython.core.display.Image object>"
            ]
          },
          "metadata": {
            "tags": []
          },
          "execution_count": 7
        }
      ]
    },
    {
      "cell_type": "code",
      "metadata": {
        "id": "v9qZxIpTYAt0",
        "colab_type": "code",
        "colab": {
          "base_uri": "https://localhost:8080/",
          "height": 85
        },
        "outputId": "2d45cf77-444e-4bc9-9674-749d357adc1e"
      },
      "source": [
        "# Evaluate the model\n",
        "\n",
        "y_predTrain = model.predict(X_train)\n",
        "train_r2 = r2_score(Y_train, y_predTrain)\n",
        "train_rmse = np.sqrt(mean_squared_error(Y_train, y_predTrain))\n",
        "\n",
        "y_predVal = model.predict(X_val)\n",
        "val_r2 = r2_score(Y_val, y_predVal)\n",
        "val_rmse = np.sqrt(mean_squared_error(Y_val, y_predVal))  \n",
        "\n",
        "start_time = time.time()\n",
        "y_predTest = model.predict(x_test)\n",
        "end_time = time.time()\n",
        "\n",
        "test_r2 = r2_score(y_test, y_predTest)\n",
        "test_rmse = np.sqrt(mean_squared_error(y_test, y_predTest))\n",
        "\n",
        "print(\"R2 scores: Train - %0.5f, Validation - %0.5f, Test - %0.5f\" %(train_r2, val_r2, test_r2))\n",
        "print(\"RMSE scores: Train - %0.5f, Validation - %0.5f, Test - %0.5f\" %(train_rmse, val_rmse, test_rmse))\n",
        "\n",
        "print(\"\\n---Time for Test data prediction: %0.8f seconds ---\" % (end_time - start_time))"
      ],
      "execution_count": null,
      "outputs": [
        {
          "output_type": "stream",
          "text": [
            "R2 scores: Train - 0.94913, Validation - 0.89725, Test - 0.86866\n",
            "RMSE scores: Train - 0.01789, Validation - 0.03253, Test - 0.04241\n",
            "\n",
            "---Time for Test data prediction: 8.02880788 seconds ---\n"
          ],
          "name": "stdout"
        }
      ]
    },
    {
      "cell_type": "code",
      "metadata": {
        "id": "UqHf45rrVMYN",
        "colab_type": "code",
        "colab": {}
      },
      "source": [
        "# Save prediction\n",
        "'''\n",
        "hf = h5py.File('/content/drive/My Drive/Colab Notebooks/Labquake_prediction/MLpreprocessed_code/predictions/transfer_lstm_ss1.h5', 'w')\n",
        "hf.create_dataset('y_predTrain', data=y_predTrain)\n",
        "hf.create_dataset('y_predVal', data=y_predVal)\n",
        "hf.create_dataset('y_predTest', data=y_predTest)\n",
        "hf.close()\n",
        "'''"
      ],
      "execution_count": null,
      "outputs": []
    }
  ]
}